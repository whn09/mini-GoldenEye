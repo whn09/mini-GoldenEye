{
 "cells": [
  {
   "cell_type": "markdown",
   "metadata": {},
   "source": [
    "#  测试目标检测性能"
   ]
  },
  {
   "cell_type": "code",
   "execution_count": null,
   "metadata": {},
   "outputs": [],
   "source": [
    "!pip install gluoncv"
   ]
  },
  {
   "cell_type": "code",
   "execution_count": null,
   "metadata": {},
   "outputs": [],
   "source": [
    "import gluoncv as gcv\n",
    "import mxnet as mx"
   ]
  },
  {
   "cell_type": "code",
   "execution_count": null,
   "metadata": {},
   "outputs": [],
   "source": [
    "import os\n",
    "\n",
    "class DetectionDataset(gcv.data.VOCDetection):\n",
    "    CLASSES = ['cocacola', 'noodles', 'hand']  # , 'cocacola-zero', 'juice'\n",
    "    def __init__(self, root):\n",
    "        self._im_shapes = {}\n",
    "        self._root = os.path.expanduser(root)\n",
    "        self._transform = None\n",
    "        self._items = [(self._root, x.strip('.xml')) for x in os.listdir(self._root) if x.endswith('.xml')]\n",
    "        self._anno_path = os.path.join('{}', '{}.xml')\n",
    "        self._image_path = os.path.join('{}', '{}.jpg')\n",
    "        self.index_map = dict(zip(self.classes, range(self.num_class)))\n",
    "        self._label_cache = self._preload_labels()\n",
    "        \n",
    "    def __str__(self):\n",
    "        detail = self._root\n",
    "        return self.__class__.__name__ + '(' + detail + ')'\n",
    "    \n",
    "    @property\n",
    "    def classes(self):\n",
    "        return self.CLASSES\n",
    "    \n",
    "    @property\n",
    "    def num_class(self):\n",
    "        return len(self.classes)\n",
    "    \n",
    "    def get_image_list(self):\n",
    "        return [os.path.join(x[0], x[1] + '.jpg') for x in self._items]\n",
    "        \n",
    "test_dataset = DetectionDataset('../images/china-v1')\n",
    "print('class_names:', test_dataset.classes)\n",
    "print('num_images:', len(test_dataset))"
   ]
  },
  {
   "cell_type": "markdown",
   "metadata": {},
   "source": [
    "# 载入训练好的模型"
   ]
  },
  {
   "cell_type": "code",
   "execution_count": null,
   "metadata": {},
   "outputs": [],
   "source": [
    "net = gcv.model_zoo.get_model('ssd_512_resnet50_v1_custom', classes=test_dataset.classes, pretrained_base=False)\n",
    "param_files = ([x for x in os.listdir('.') if x.endswith('.params')])\n",
    "selected = param_files[0]\n",
    "print('磁盘上有训练好的模型：', param_files)\n",
    "net.load_parameters(selected)\n",
    "print('载入完毕:', selected)"
   ]
  },
  {
   "cell_type": "markdown",
   "metadata": {},
   "source": [
    "# 观察检测性能"
   ]
  },
  {
   "cell_type": "code",
   "execution_count": null,
   "metadata": {},
   "outputs": [],
   "source": [
    "images = test_dataset.get_image_list()\n",
    "print('测试图像集：', images)"
   ]
  },
  {
   "cell_type": "code",
   "execution_count": null,
   "metadata": {
    "scrolled": true
   },
   "outputs": [],
   "source": [
    "%%time\n",
    "from matplotlib import pyplot as plt\n",
    "# Use GPU\n",
    "ctx = mx.gpu(0)\n",
    "# ctx = mx.cpu(0)\n",
    "net.collect_params().reset_ctx(ctx)\n",
    "for image in images:\n",
    "    x, img = gcv.data.transforms.presets.ssd.load_test(image, short=512)\n",
    "    class_IDs, scores, bounding_boxes = net(x.as_in_context(ctx))\n",
    "    ax = gcv.utils.viz.plot_bbox(img, bounding_boxes[0], scores[0],\n",
    "                         class_IDs[0], class_names=net.classes)\n",
    "    plt.show()"
   ]
  },
  {
   "cell_type": "markdown",
   "metadata": {},
   "source": [
    "# 测试结果总结"
   ]
  },
  {
   "cell_type": "code",
   "execution_count": null,
   "metadata": {},
   "outputs": [],
   "source": [
    "import time\n",
    "from tqdm import tqdm\n",
    "from gluoncv.data.batchify import Tuple, Stack, Pad\n",
    "from gluoncv.data.transforms.presets.ssd import SSDDefaultValTransform\n",
    "\n",
    "def validate(net, test_dataset, ctx):\n",
    "    if isinstance(ctx, mx.Context):\n",
    "        ctx = [ctx]\n",
    "    size = len(test_dataset)\n",
    "    metric = gcv.utils.metrics.voc_detection.VOC07MApMetric(iou_thresh=0.5, class_names=test_dataset.classes)\n",
    "    net.collect_params().reset_ctx(ctx)\n",
    "    metric.reset()\n",
    "    width, height = 512, 512\n",
    "    batch_size = 4\n",
    "    batchify_fn = Tuple(Stack(), Pad(pad_val=-1))\n",
    "    val_loader = mx.gluon.data.DataLoader(\n",
    "        test_dataset.transform(SSDDefaultValTransform(width, height)), batchify_fn=batchify_fn,\n",
    "        batch_size=batch_size, shuffle=False, last_batch='rollover', num_workers=0)\n",
    "    with tqdm(total=size) as pbar:\n",
    "        start = time.time()\n",
    "        for ib, batch in enumerate(val_loader):\n",
    "            data = mx.gluon.utils.split_and_load(batch[0], ctx_list=ctx, batch_axis=0, even_split=False)\n",
    "            label = mx.gluon.utils.split_and_load(batch[1], ctx_list=ctx, batch_axis=0, even_split=False)\n",
    "            det_bboxes = []\n",
    "            det_ids = []\n",
    "            det_scores = []\n",
    "            gt_bboxes = []\n",
    "            gt_ids = []\n",
    "            gt_difficults = []\n",
    "            for x, y in zip(data, label):\n",
    "                ids, scores, bboxes = net(x)\n",
    "                det_ids.append(ids)\n",
    "                det_scores.append(scores)\n",
    "                # clip to image size\n",
    "                det_bboxes.append(bboxes.clip(0, batch[0].shape[2]))\n",
    "                # split ground truths\n",
    "                gt_ids.append(y.slice_axis(axis=-1, begin=4, end=5))\n",
    "                gt_bboxes.append(y.slice_axis(axis=-1, begin=0, end=4))\n",
    "                gt_difficults.append(y.slice_axis(axis=-1, begin=5, end=6) if y.shape[-1] > 5 else None)\n",
    "\n",
    "            metric.update(det_bboxes, det_ids, det_scores, gt_bboxes, gt_ids, gt_difficults)\n",
    "            pbar.update(batch[0].shape[0])\n",
    "        end = time.time()\n",
    "        speed = size / (end - start)\n",
    "        print('Throughput is %f img/sec.'% speed)\n",
    "    return metric.get()\n",
    "\n",
    "final_result = validate(net, test_dataset, mx.gpu(0))"
   ]
  },
  {
   "cell_type": "code",
   "execution_count": null,
   "metadata": {},
   "outputs": [],
   "source": [
    "for name, score in zip(*final_result):\n",
    "    print(name, ':', score)"
   ]
  },
  {
   "cell_type": "code",
   "execution_count": null,
   "metadata": {},
   "outputs": [],
   "source": []
  }
 ],
 "metadata": {
  "kernelspec": {
   "display_name": "conda_mxnet_p36",
   "language": "python",
   "name": "conda_mxnet_p36"
  },
  "language_info": {
   "codemirror_mode": {
    "name": "ipython",
    "version": 3
   },
   "file_extension": ".py",
   "mimetype": "text/x-python",
   "name": "python",
   "nbconvert_exporter": "python",
   "pygments_lexer": "ipython3",
   "version": "3.6.5"
  }
 },
 "nbformat": 4,
 "nbformat_minor": 4
}
