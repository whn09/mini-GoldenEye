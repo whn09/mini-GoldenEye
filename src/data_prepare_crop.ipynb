{
 "cells": [
  {
   "cell_type": "code",
   "execution_count": 5,
   "id": "bc871b41",
   "metadata": {},
   "outputs": [],
   "source": [
    "!mkdir -p ../images/train_crop\n",
    "!mkdir -p ../images/val_crop"
   ]
  },
  {
   "cell_type": "code",
   "execution_count": 6,
   "id": "75a2ba08",
   "metadata": {},
   "outputs": [],
   "source": [
    "import os\n",
    "\n",
    "base_dir = '../images/echo_train/'\n",
    "filenames = os.listdir(base_dir)\n",
    "class_names = []\n",
    "for filename in filenames:\n",
    "    if os.path.isdir(os.path.join(base_dir, filename)) and not filename.startswith('.'):\n",
    "        class_names.append(filename)\n",
    "        if not os.path.exists(os.path.join('../images/train_crop/', filename)):\n",
    "            os.mkdir(os.path.join('../images/train_crop/', filename))\n",
    "            os.mkdir(os.path.join('../images/val_crop/', filename))"
   ]
  },
  {
   "cell_type": "code",
   "execution_count": null,
   "id": "7e66c801",
   "metadata": {},
   "outputs": [
    {
     "name": "stdout",
     "output_type": "stream",
     "text": [
      "mute 115\n",
      "../images/echo_train/mute/.DS_Store\n",
      "connect 16\n",
      "other 122\n",
      "../images/echo_train/other/.DS_Store\n"
     ]
    }
   ],
   "source": [
    "from sklearn.model_selection import train_test_split\n",
    "import cv2\n",
    "# import mxnet as mx\n",
    "from PIL import Image\n",
    "\n",
    "for name in class_names:\n",
    "    filenames = os.listdir(os.path.join(base_dir, name))\n",
    "    print(name, len(filenames))\n",
    "    train_filenames, test_filenames = train_test_split(filenames, test_size=0.3)\n",
    "    for filename in train_filenames:\n",
    "        if not filename.endswith('.jpg') and not filename.endswith('.png') and not filename.endswith('.jpeg'):\n",
    "            print(os.path.join(base_dir, name, filename))\n",
    "            continue\n",
    "        img = Image.open(os.path.join(base_dir, name, filename))\n",
    "        try:\n",
    "            img.load()\n",
    "        except Exception as e:\n",
    "            print(f'[Error]:{e}\\t{os.path.join(base_dir, name, filename)}')\n",
    "            continue\n",
    "        img = cv2.imread(os.path.join(base_dir, name, filename))\n",
    "        if img is not None:\n",
    "#             img = cv2.cvtColor(img,cv2.COLOR_BGR2RGB)\n",
    "#             img = mx.nd.array(img)\n",
    "#             print(img.shape)\n",
    "#             os.system('cp '+os.path.join(base_dir, name, filename)+' '+os.path.join('../images/train/', name, filename))\n",
    "            img = img[0:280, 180:460]\n",
    "            cv2.imwrite(os.path.join('../images/train_crop/', name, filename), img)\n",
    "        else:\n",
    "            print('ERROR:', os.path.join(base_dir, name, filename))\n",
    "    for filename in test_filenames:\n",
    "        if not filename.endswith('.jpg') and not filename.endswith('.png') and not filename.endswith('.jpeg'):\n",
    "            print(os.path.join(base_dir, name, filename))\n",
    "            continue\n",
    "        img = Image.open(os.path.join(base_dir, name, filename))\n",
    "        try:\n",
    "            img.load()\n",
    "        except Exception as e:\n",
    "            print(f'[Error]:{e}\\t{os.path.join(base_dir, name, filename)}')\n",
    "            continue\n",
    "        img = cv2.imread(os.path.join(base_dir, name, filename))\n",
    "        if img is not None:\n",
    "#             img = cv2.cvtColor(img,cv2.COLOR_BGR2RGB)\n",
    "#             img = mx.nd.array(img)\n",
    "#             print(img.shape)\n",
    "#             os.system('cp '+os.path.join(base_dir, name, filename)+' '+os.path.join('../images/val/', name, filename))\n",
    "            img = img[0:280, 180:460]\n",
    "            cv2.imwrite(os.path.join('../images/val_crop/', name, filename), img)\n",
    "        else:\n",
    "            print('ERROR:', os.path.join(base_dir, name, filename))"
   ]
  },
  {
   "cell_type": "code",
   "execution_count": null,
   "id": "2a7565c7",
   "metadata": {},
   "outputs": [],
   "source": [
    "# !rm -rf images/train_crop\n",
    "# !rm -rf images/val_crop"
   ]
  },
  {
   "cell_type": "code",
   "execution_count": null,
   "id": "ecd22456",
   "metadata": {},
   "outputs": [],
   "source": []
  }
 ],
 "metadata": {
  "kernelspec": {
   "display_name": "conda_python3",
   "language": "python",
   "name": "conda_python3"
  },
  "language_info": {
   "codemirror_mode": {
    "name": "ipython",
    "version": 3
   },
   "file_extension": ".py",
   "mimetype": "text/x-python",
   "name": "python",
   "nbconvert_exporter": "python",
   "pygments_lexer": "ipython3",
   "version": "3.6.13"
  }
 },
 "nbformat": 4,
 "nbformat_minor": 5
}
